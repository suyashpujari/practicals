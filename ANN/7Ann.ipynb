{
 "cells": [
  {
   "cell_type": "code",
   "execution_count": 1,
   "id": "45a9eb76",
   "metadata": {},
   "outputs": [
    {
     "name": "stdout",
     "output_type": "stream",
     "text": [
      "Input: [0 0], Predicted Output: [9.35762104e-14]\n",
      "Input: [0 1], Predicted Output: [4.53978593e-05]\n",
      "Input: [1 0], Predicted Output: [4.53978593e-05]\n",
      "Input: [1 1], Predicted Output: [0.9999546]\n"
     ]
    }
   ],
   "source": [
    "import numpy as np\n",
    "\n",
    "# Define the neural network class\n",
    "class NeuralNetwork:\n",
    "    def __init__(self):\n",
    "        # Define the network architecture\n",
    "        self.weights = np.array([[20.0], [20.0]])\n",
    "        self.bias = np.array([[-30.0]])\n",
    " \n",
    "    def sigmoid(self, x):\n",
    "        return 1 / (1 + np.exp(-x))\n",
    "    \n",
    "    def predict(self, x):\n",
    "        z = np.dot(x, self.weights) + self.bias\n",
    "        y_pred = self.sigmoid(z)\n",
    "        return y_pred\n",
    "\n",
    "# Define the training data\n",
    "x_train = np.array([[0, 0], [0, 1], [1, 0], [1, 1]])\n",
    "y_train = np.array([[0, 0, 0, 1]]).T\n",
    "    \n",
    "# Create an instance of the NeuralNetwork class\n",
    "network = NeuralNetwork()\n",
    "        \n",
    "# Train the neural network\n",
    "epochs = 1000\n",
    "learning_rate = 0.1\n",
    "for epoch in range(epochs):\n",
    "    y_pred = network.predict(x_train)\n",
    "    error = y_train - y_pred\n",
    "    d_weights = np.dot(x_train.T, error * y_pred * (1 - y_pred))\n",
    "    d_bias = np.sum(error * y_pred * (1 - y_pred))\n",
    "    network.weights += learning_rate * d_weights\n",
    "    network.bias += learning_rate * d_bias\n",
    "\n",
    "# Make predictions on new input data\n",
    "x_test = np.array([[0, 0], [0, 1], [1, 0], [1, 1]])\n",
    "y_pred = network.predict(x_test)\n",
    "\n",
    "# Display the predictions\n",
    "for i in range(len(x_test)):\n",
    "    print(f\"Input: {x_test[i]}, Predicted Output: {y_pred[i]}\")"
   ]
  },
  {
   "cell_type": "code",
   "execution_count": null,
   "id": "36f554a8",
   "metadata": {},
   "outputs": [],
   "source": []
  }
 ],
 "metadata": {
  "kernelspec": {
   "display_name": "Python 3 (ipykernel)",
   "language": "python",
   "name": "python3"
  },
  "language_info": {
   "codemirror_mode": {
    "name": "ipython",
    "version": 3
   },
   "file_extension": ".py",
   "mimetype": "text/x-python",
   "name": "python",
   "nbconvert_exporter": "python",
   "pygments_lexer": "ipython3",
   "version": "3.9.12"
  }
 },
 "nbformat": 4,
 "nbformat_minor": 5
}
