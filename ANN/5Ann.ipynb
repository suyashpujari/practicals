{
 "cells": [
  {
   "cell_type": "code",
   "execution_count": 1,
   "id": "800a5a80",
   "metadata": {},
   "outputs": [],
   "source": [
    "import numpy as np\n",
    "import matplotlib.pyplot as plt"
   ]
  },
  {
   "cell_type": "code",
   "execution_count": 2,
   "id": "bc861794",
   "metadata": {},
   "outputs": [],
   "source": [
    "class Perceptron:\n",
    "    def __init__(self, lr=0.1, n_iter=100):\n",
    "        self.lr = lr # learning rate\n",
    "        self.n_iter = n_iter \n",
    "        self.weights = None \n",
    "        self.bias = None \n",
    "        \n",
    "    def fit(self, X, y):\n",
    "         \n",
    "        self.weights = np.zeros(X.shape[1])\n",
    "        self.bias = 1\n",
    "\n",
    "        \n",
    "        for i in range(self.n_iter):\n",
    "           \n",
    "            for j in range(X.shape[0]):\n",
    "                \n",
    "                pred = self.predict(X[j])\n",
    "             \n",
    "                if pred != y[j]:\n",
    "                    self.weights += self.lr * y[j] * X[j]\n",
    "                    self.bias += self.lr * y[j]\n",
    "\n",
    "    def predict(self, X):\n",
    "       \n",
    "        output = np.dot(X, self.weights) + self.bias\n",
    "        \n",
    "        return np.where(output >= 0, 1, -1)"
   ]
  },
  {
   "cell_type": "code",
   "execution_count": 3,
   "id": "e4db0407",
   "metadata": {},
   "outputs": [],
   "source": [
    "\n",
    "X = np.array([[2, 2], [4, 4], [4, 0], [3, 2], [8, 4], [8, 0]])\n",
    "y = np.array([1, 1, -1, 1, -1, -1])\n"
   ]
  },
  {
   "cell_type": "code",
   "execution_count": 4,
   "id": "07e509b6",
   "metadata": {},
   "outputs": [],
   "source": [
    "model = Perceptron()\n",
    "model.fit(X, y)"
   ]
  },
  {
   "cell_type": "code",
   "execution_count": 5,
   "id": "d06fa797",
   "metadata": {},
   "outputs": [
    {
     "data": {
      "image/png": "[encoded data removed]",
      "text/plain": [
       "<Figure size 432x288 with 1 Axes>"
      ]
     },
     "metadata": {
      "needs_background": "light"
     },
     "output_type": "display_data"
    }
   ],
   "source": [
    "plt.scatter(X[:, 0], X[:, 1], c=y)\n",
    "plt.xlim(0, 10)\n",
    "plt.ylim(0, 5)\n",
    "x1 = np.linspace(0, 10)\n",
    "x2 = -(model.weights[0]*x1 + model.bias)/model.weights[1]\n",
    "plt.plot(x1, x2, '-r')\n",
    "plt.show()"
   ]
  }
 ],
 "metadata": {
  "kernelspec": {
   "display_name": "Python 3 (ipykernel)",
   "language": "python",
   "name": "python3"
  },
  "language_info": {
   "codemirror_mode": {
    "name": "ipython",
    "version": 3
   },
   "file_extension": ".py",
   "mimetype": "text/x-python",
   "name": "python",
   "nbconvert_exporter": "python",
   "pygments_lexer": "ipython3",
   "version": "3.9.12"
  }
 },
 "nbformat": 4,
 "nbformat_minor": 5
}
