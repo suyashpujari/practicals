{
 "cells": [
  {
   "cell_type": "code",
   "execution_count": 2,
   "id": "08768503",
   "metadata": {},
   "outputs": [
    {
     "name": "stdout",
     "output_type": "stream",
     "text": [
      "Downloading data from https://storage.googleapis.com/tensorflow/tf-keras-datasets/mnist.npz\n",
      "11490434/11490434 [==============================] - 4s 0us/step\n",
      "Epoch 1/10\n",
      "938/938 [==============================] - 24s 25ms/step - loss: 0.1954 - accuracy: 0.9399\n",
      "Epoch 2/10\n",
      "938/938 [==============================] - 23s 25ms/step - loss: 0.0495 - accuracy: 0.9844\n",
      "Epoch 3/10\n",
      "938/938 [==============================] - 24s 26ms/step - loss: 0.0356 - accuracy: 0.9889\n",
      "Epoch 4/10\n",
      "938/938 [==============================] - 23s 25ms/step - loss: 0.0279 - accuracy: 0.9910\n",
      "Epoch 5/10\n",
      "938/938 [==============================] - 23s 24ms/step - loss: 0.0221 - accuracy: 0.9929\n",
      "Epoch 6/10\n",
      "938/938 [==============================] - 24s 25ms/step - loss: 0.0179 - accuracy: 0.9941\n",
      "Epoch 7/10\n",
      "938/938 [==============================] - 23s 24ms/step - loss: 0.0162 - accuracy: 0.9949\n",
      "Epoch 8/10\n",
      "938/938 [==============================] - 19s 21ms/step - loss: 0.0116 - accuracy: 0.9964\n",
      "Epoch 9/10\n",
      "938/938 [==============================] - 20s 21ms/step - loss: 0.0118 - accuracy: 0.9961\n",
      "Epoch 10/10\n",
      "938/938 [==============================] - 21s 22ms/step - loss: 0.0097 - accuracy: 0.9968\n",
      "313/313 [==============================] - 3s 8ms/step - loss: 0.0290 - accuracy: 0.9917\n",
      "Test Loss: 0.029026007279753685\n",
      "Test Accuracy: 0.9916999936103821\n"
     ]
    }
   ],
   "source": [
    "import tensorflow as tf\n",
    "from tensorflow.keras.datasets import mnist\n",
    "from tensorflow.keras.models import Sequential\n",
    "from tensorflow.keras.layers import Conv2D, MaxPooling2D, Flatten, Dense\n",
    "from tensorflow.keras.utils import to_categorical\n",
    "\n",
    "(X_train, y_train), (X_test, y_test) = mnist.load_data()\n",
    "X_train = X_train.reshape(-1, 28, 28, 1) / 255.0\n",
    "X_test = X_test.reshape(-1, 28, 28, 1) / 255.0\n",
    "y_train = to_categorical(y_train)\n",
    "y_test = to_categorical(y_test)\n",
    "\n",
    "model = Sequential([\n",
    "    Conv2D(32, (3, 3), activation='relu', input_shape=(28, 28, 1)),\n",
    "    MaxPooling2D((2, 2)),\n",
    "    Conv2D(64, (3, 3), activation='relu'),\n",
    "    MaxPooling2D((2, 2)),\n",
    "    Conv2D(64, (3, 3), activation='relu'),\n",
    "    Flatten(),\n",
    "    Dense(64, activation='relu'),\n",
    "    Dense(10, activation='softmax')\n",
    "])\n",
    "\n",
    "model.compile(optimizer='adam', loss='categorical_crossentropy', metrics=['accuracy'])\n",
    "\n",
    "model.fit(X_train, y_train, batch_size=64, epochs=10, verbose=1)\n",
    "\n",
    "loss, accuracy = model.evaluate(X_test, y_test)\n",
    "print(f\"Test Loss: {loss}\")\n",
    "print(f\"Test Accuracy: {accuracy}\")\n"
   ]
  },
  {
   "cell_type": "code",
   "execution_count": null,
   "id": "985f259d",
   "metadata": {},
   "outputs": [],
   "source": []
  }
 ],
 "metadata": {
  "kernelspec": {
   "display_name": "Python 3 (ipykernel)",
   "language": "python",
   "name": "python3"
  },
  "language_info": {
   "codemirror_mode": {
    "name": "ipython",
    "version": 3
   },
   "file_extension": ".py",
   "mimetype": "text/x-python",
   "name": "python",
   "nbconvert_exporter": "python",
   "pygments_lexer": "ipython3",
   "version": "3.9.12"
  }
 },
 "nbformat": 4,
 "nbformat_minor": 5
}
