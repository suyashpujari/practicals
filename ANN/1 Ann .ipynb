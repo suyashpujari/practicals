{
 "cells": [
  {
   "cell_type": "code",
   "execution_count": 13,
   "id": "fada66e3",
   "metadata": {},
   "outputs": [
    {
     "name": "stdout",
     "output_type": "stream",
     "text": [
      "Probability: 0.3\n"
     ]
    }
   ],
   "source": [
    "# Calculating probability of an event\n",
    "def calculate_probability(event_outcomes, sample_space):\n",
    "    return event_outcomes / sample_space\n",
    "\n",
    "# Example usage\n",
    "event_outcomes = 3\n",
    "sample_space = 10\n",
    "probability = calculate_probability(event_outcomes, sample_space)\n",
    "print(\"Probability:\", probability)\n"
   ]
  },
  {
   "cell_type": "code",
   "execution_count": 14,
   "id": "1a84878b",
   "metadata": {},
   "outputs": [
    {
     "name": "stdout",
     "output_type": "stream",
     "text": [
      "Heads count: 55\n",
      "Tails count: 45\n"
     ]
    }
   ],
   "source": [
    "import random\n",
    "\n",
    "# Simulating a coin toss\n",
    "def coin_toss():\n",
    "    outcomes = ['Heads', 'Tails']\n",
    "    return random.choice(outcomes)\n",
    "\n",
    "# Example usage\n",
    "num_tosses = 100\n",
    "heads_count = 0\n",
    "tails_count = 0\n",
    "\n",
    "for _ in range(num_tosses):\n",
    "    outcome = coin_toss()\n",
    "    if outcome == 'Heads':\n",
    "        heads_count += 1\n",
    "    else:\n",
    "        tails_count += 1\n",
    "\n",
    "print(\"Heads count:\", heads_count)\n",
    "print(\"Tails count:\", tails_count)\n"
   ]
  },
  {
   "cell_type": "code",
   "execution_count": 15,
   "id": "9d88e79c",
   "metadata": {},
   "outputs": [
    {
     "name": "stdout",
     "output_type": "stream",
     "text": [
      "Number 1 count: 17\n",
      "Number 2 count: 15\n",
      "Number 3 count: 22\n",
      "Number 4 count: 12\n",
      "Number 5 count: 12\n",
      "Number 6 count: 22\n"
     ]
    }
   ],
   "source": [
    "import random\n",
    "\n",
    "# Rolling a dice\n",
    "def roll_dice():\n",
    "    return random.randint(1, 6)\n",
    "\n",
    "# Example usage\n",
    "num_rolls = 100\n",
    "roll_counts = [0] * 6\n",
    "\n",
    "for _ in range(num_rolls):\n",
    "    roll = roll_dice()\n",
    "    roll_counts[roll - 1] += 1\n",
    "\n",
    "for i in range(6):\n",
    "    print(\"Number\", i+1, \"count:\", roll_counts[i])\n"
   ]
  },
  {
   "cell_type": "code",
   "execution_count": 16,
   "id": "fe2b6c8d",
   "metadata": {},
   "outputs": [
    {
     "data": {
      "image/png": "[encoded data removed]",
      "text/plain": [
       "<Figure size 432x288 with 1 Axes>"
      ]
     },
     "metadata": {
      "needs_background": "light"
     },
     "output_type": "display_data"
    }
   ],
   "source": [
    "import random\n",
    "import matplotlib.pyplot as plt\n",
    "\n",
    "# Probability distribution using random numbers\n",
    "def random_distribution(num_samples):\n",
    "    values = []\n",
    "    for _ in range(num_samples):\n",
    "        value = random.random()  # Generate a random value between 0 and 1\n",
    "        values.append(value)\n",
    "    return values\n",
    "\n",
    "# Example usage\n",
    "num_samples = 1000\n",
    "values = random_distribution(num_samples)\n",
    "plt.hist(values, bins=20, edgecolor='black')\n",
    "plt.xlabel('Value')\n",
    "plt.ylabel('Frequency')\n",
    "plt.title('Random Distribution')\n",
    "plt.show()\n"
   ]
  },
  {
   "cell_type": "code",
   "execution_count": null,
   "id": "4f833c52",
   "metadata": {},
   "outputs": [],
   "source": []
  }
 ],
 "metadata": {
  "kernelspec": {
   "display_name": "Python 3 (ipykernel)",
   "language": "python",
   "name": "python3"
  },
  "language_info": {
   "codemirror_mode": {
    "name": "ipython",
    "version": 3
   },
   "file_extension": ".py",
   "mimetype": "text/x-python",
   "name": "python",
   "nbconvert_exporter": "python",
   "pygments_lexer": "ipython3",
   "version": "3.9.12"
  }
 },
 "nbformat": 4,
 "nbformat_minor": 5
}
