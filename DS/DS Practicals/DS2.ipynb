{
 "cells": [
  {
   "cell_type": "code",
   "execution_count": 1,
   "id": "d8483d06-c341-4078-8ef2-fdf3aea9e579",
   "metadata": {},
   "outputs": [],
   "source": [
    "import numpy as np\n",
    "import pandas as pd"
   ]
  },
  {
   "cell_type": "code",
   "execution_count": 2,
   "id": "5c53ca3b-c854-4940-a7db-112b2d4ac3b4",
   "metadata": {},
   "outputs": [],
   "source": [
    "# Set random seed for reproducibility\n",
    "np.random.seed(42)\n",
    "\n",
    "# Generate student data\n",
    "num_students = 100\n",
    "students = np.arange(1, num_students + 1)\n",
    "grades = np.random.normal(75, 10, num_students)\n",
    "attendance = np.random.uniform(0.6, 1.0, num_students)\n",
    "participation = np.random.normal(0.5, 0.2, num_students)"
   ]
  },
  {
   "cell_type": "code",
   "execution_count": 3,
   "id": "f64d2de3-934a-4bc8-87b6-ee8b1f43d14f",
   "metadata": {},
   "outputs": [],
   "source": [
    "# Additional features\n",
    "hours_studied = np.random.uniform(5, 20, num_students)\n",
    "extracurricular_activities = np.random.randint(0, 10, num_students)\n",
    "midterm_exam = np.random.normal(70, 5, num_students)"
   ]
  },
  {
   "cell_type": "code",
   "execution_count": 4,
   "id": "38f47c65-99d0-4b40-a557-9e41aaa50239",
   "metadata": {},
   "outputs": [],
   "source": [
    "# Create DataFrame\n",
    "df = pd.DataFrame({\n",
    "    'Student_ID': students,\n",
    "    'Grades': grades,\n",
    "    'Attendance': attendance,\n",
    "    'Participation': participation,\n",
    "    'Hours_Studied': hours_studied,\n",
    "    'Extracurricular_Activities': extracurricular_activities,\n",
    "    'Midterm_Exam': midterm_exam\n",
    "})"
   ]
  },
  {
   "cell_type": "code",
   "execution_count": 5,
   "id": "723c32e1-7cae-43b0-9ed8-7b98c00ce999",
   "metadata": {},
   "outputs": [],
   "source": [
    "# Introduce missing values\n",
    "missing_percentage = 0.1\n",
    "missing_mask = np.random.rand(num_students, len(df.columns)) < missing_percentage\n",
    "df[missing_mask] = np.nan"
   ]
  },
  {
   "cell_type": "code",
   "execution_count": 6,
   "id": "53710c8f-fa63-42b2-b63b-63b7f69fccaf",
   "metadata": {},
   "outputs": [],
   "source": [
    "# Introduce outliers\n",
    "outlier_percentage = 0.05\n",
    "outlier_columns = ['Grades', 'Attendance', 'Participation', 'Hours_Studied', 'Midterm_Exam']\n",
    "outlier_mask = np.random.rand(num_students) < outlier_percentage\n",
    "df.loc[outlier_mask, outlier_columns] += np.random.uniform(-20, 20, (sum(outlier_mask), len(outlier_columns)))"
   ]
  },
  {
   "cell_type": "code",
   "execution_count": 7,
   "id": "e65072ec-9e3f-4c19-a498-fa650e35932c",
   "metadata": {},
   "outputs": [
    {
     "data": {
      "text/html": [
       "<div>\n",
       "<style scoped>\n",
       "    .dataframe tbody tr th:only-of-type {\n",
       "        vertical-align: middle;\n",
       "    }\n",
       "\n",
       "    .dataframe tbody tr th {\n",
       "        vertical-align: top;\n",
       "    }\n",
       "\n",
       "    .dataframe thead th {\n",
       "        text-align: right;\n",
       "    }\n",
       "</style>\n",
       "<table border=\"1\" class=\"dataframe\">\n",
       "  <thead>\n",
       "    <tr style=\"text-align: right;\">\n",
       "      <th></th>\n",
       "      <th>Student_ID</th>\n",
       "      <th>Grades</th>\n",
       "      <th>Attendance</th>\n",
       "      <th>Participation</th>\n",
       "      <th>Hours_Studied</th>\n",
       "      <th>Extracurricular_Activities</th>\n",
       "      <th>Midterm_Exam</th>\n",
       "    </tr>\n",
       "  </thead>\n",
       "  <tbody>\n",
       "    <tr>\n",
       "      <th>0</th>\n",
       "      <td>1.0</td>\n",
       "      <td>79.967142</td>\n",
       "      <td>0.766964</td>\n",
       "      <td>0.502600</td>\n",
       "      <td>6.058531</td>\n",
       "      <td>6.0</td>\n",
       "      <td>66.778624</td>\n",
       "    </tr>\n",
       "    <tr>\n",
       "      <th>1</th>\n",
       "      <td>2.0</td>\n",
       "      <td>NaN</td>\n",
       "      <td>0.688843</td>\n",
       "      <td>0.790707</td>\n",
       "      <td>14.636289</td>\n",
       "      <td>2.0</td>\n",
       "      <td>NaN</td>\n",
       "    </tr>\n",
       "    <tr>\n",
       "      <th>2</th>\n",
       "      <td>3.0</td>\n",
       "      <td>NaN</td>\n",
       "      <td>0.647946</td>\n",
       "      <td>NaN</td>\n",
       "      <td>NaN</td>\n",
       "      <td>1.0</td>\n",
       "      <td>66.301906</td>\n",
       "    </tr>\n",
       "    <tr>\n",
       "      <th>3</th>\n",
       "      <td>4.0</td>\n",
       "      <td>90.230299</td>\n",
       "      <td>0.735046</td>\n",
       "      <td>NaN</td>\n",
       "      <td>13.786634</td>\n",
       "      <td>9.0</td>\n",
       "      <td>66.753764</td>\n",
       "    </tr>\n",
       "    <tr>\n",
       "      <th>4</th>\n",
       "      <td>5.0</td>\n",
       "      <td>72.658466</td>\n",
       "      <td>0.977164</td>\n",
       "      <td>0.625133</td>\n",
       "      <td>19.103454</td>\n",
       "      <td>3.0</td>\n",
       "      <td>65.757397</td>\n",
       "    </tr>\n",
       "    <tr>\n",
       "      <th>...</th>\n",
       "      <td>...</td>\n",
       "      <td>...</td>\n",
       "      <td>...</td>\n",
       "      <td>...</td>\n",
       "      <td>...</td>\n",
       "      <td>...</td>\n",
       "      <td>...</td>\n",
       "    </tr>\n",
       "    <tr>\n",
       "      <th>95</th>\n",
       "      <td>96.0</td>\n",
       "      <td>60.364851</td>\n",
       "      <td>0.697596</td>\n",
       "      <td>0.212828</td>\n",
       "      <td>6.252511</td>\n",
       "      <td>4.0</td>\n",
       "      <td>66.879916</td>\n",
       "    </tr>\n",
       "    <tr>\n",
       "      <th>96</th>\n",
       "      <td>97.0</td>\n",
       "      <td>NaN</td>\n",
       "      <td>0.989204</td>\n",
       "      <td>NaN</td>\n",
       "      <td>16.657204</td>\n",
       "      <td>6.0</td>\n",
       "      <td>72.007803</td>\n",
       "    </tr>\n",
       "    <tr>\n",
       "      <th>97</th>\n",
       "      <td>98.0</td>\n",
       "      <td>NaN</td>\n",
       "      <td>0.757239</td>\n",
       "      <td>0.502047</td>\n",
       "      <td>13.376064</td>\n",
       "      <td>4.0</td>\n",
       "      <td>78.234745</td>\n",
       "    </tr>\n",
       "    <tr>\n",
       "      <th>98</th>\n",
       "      <td>99.0</td>\n",
       "      <td>75.051135</td>\n",
       "      <td>0.956819</td>\n",
       "      <td>0.303698</td>\n",
       "      <td>11.363330</td>\n",
       "      <td>4.0</td>\n",
       "      <td>77.397170</td>\n",
       "    </tr>\n",
       "    <tr>\n",
       "      <th>99</th>\n",
       "      <td>100.0</td>\n",
       "      <td>72.654129</td>\n",
       "      <td>0.852455</td>\n",
       "      <td>0.592421</td>\n",
       "      <td>NaN</td>\n",
       "      <td>4.0</td>\n",
       "      <td>79.930682</td>\n",
       "    </tr>\n",
       "  </tbody>\n",
       "</table>\n",
       "<p>100 rows × 7 columns</p>\n",
       "</div>"
      ],
      "text/plain": [
       "    Student_ID     Grades  Attendance  Participation  Hours_Studied  \\\n",
       "0          1.0  79.967142    0.766964       0.502600       6.058531   \n",
       "1          2.0        NaN    0.688843       0.790707      14.636289   \n",
       "2          3.0        NaN    0.647946            NaN            NaN   \n",
       "3          4.0  90.230299    0.735046            NaN      13.786634   \n",
       "4          5.0  72.658466    0.977164       0.625133      19.103454   \n",
       "..         ...        ...         ...            ...            ...   \n",
       "95        96.0  60.364851    0.697596       0.212828       6.252511   \n",
       "96        97.0        NaN    0.989204            NaN      16.657204   \n",
       "97        98.0        NaN    0.757239       0.502047      13.376064   \n",
       "98        99.0  75.051135    0.956819       0.303698      11.363330   \n",
       "99       100.0  72.654129    0.852455       0.592421            NaN   \n",
       "\n",
       "    Extracurricular_Activities  Midterm_Exam  \n",
       "0                          6.0     66.778624  \n",
       "1                          2.0           NaN  \n",
       "2                          1.0     66.301906  \n",
       "3                          9.0     66.753764  \n",
       "4                          3.0     65.757397  \n",
       "..                         ...           ...  \n",
       "95                         4.0     66.879916  \n",
       "96                         6.0     72.007803  \n",
       "97                         4.0     78.234745  \n",
       "98                         4.0     77.397170  \n",
       "99                         4.0     79.930682  \n",
       "\n",
       "[100 rows x 7 columns]"
      ]
     },
     "execution_count": 7,
     "metadata": {},
     "output_type": "execute_result"
    }
   ],
   "source": [
    "# Display the generated dataset with more columns\n",
    "df"
   ]
  },
  {
   "cell_type": "code",
   "execution_count": 8,
   "id": "e538cee2-91e4-4b21-bfb6-d0901c13ea6a",
   "metadata": {},
   "outputs": [
    {
     "data": {
      "text/plain": [
       "Student_ID                     6\n",
       "Grades                        14\n",
       "Attendance                     6\n",
       "Participation                 11\n",
       "Hours_Studied                  9\n",
       "Extracurricular_Activities    12\n",
       "Midterm_Exam                  13\n",
       "dtype: int64"
      ]
     },
     "execution_count": 8,
     "metadata": {},
     "output_type": "execute_result"
    }
   ],
   "source": [
    "df.isna().sum()"
   ]
  },
  {
   "cell_type": "code",
   "execution_count": 9,
   "id": "f8d407d6-9c36-47cb-bac5-b426362bc5b4",
   "metadata": {},
   "outputs": [],
   "source": [
    "df1=df.dropna()"
   ]
  },
  {
   "cell_type": "code",
   "execution_count": 10,
   "id": "5b9826fd-8752-4c6c-9f0d-fd0b996d08cb",
   "metadata": {},
   "outputs": [
    {
     "data": {
      "text/plain": [
       "Student_ID                    0\n",
       "Grades                        0\n",
       "Attendance                    0\n",
       "Participation                 0\n",
       "Hours_Studied                 0\n",
       "Extracurricular_Activities    0\n",
       "Midterm_Exam                  0\n",
       "dtype: int64"
      ]
     },
     "execution_count": 10,
     "metadata": {},
     "output_type": "execute_result"
    }
   ],
   "source": [
    "df1.isna().sum()"
   ]
  },
  {
   "cell_type": "code",
   "execution_count": 11,
   "id": "9a7ffadf-261b-4b95-a447-1340094c33a5",
   "metadata": {},
   "outputs": [
    {
     "data": {
      "text/plain": [
       "(100, 7)"
      ]
     },
     "execution_count": 11,
     "metadata": {},
     "output_type": "execute_result"
    }
   ],
   "source": [
    "df.shape"
   ]
  },
  {
   "cell_type": "code",
   "execution_count": 12,
   "id": "d94534f2-03d8-42a2-864b-ccb3d134917f",
   "metadata": {},
   "outputs": [
    {
     "name": "stdout",
     "output_type": "stream",
     "text": [
      "<class 'pandas.core.frame.DataFrame'>\n",
      "RangeIndex: 100 entries, 0 to 99\n",
      "Data columns (total 7 columns):\n",
      " #   Column                      Non-Null Count  Dtype  \n",
      "---  ------                      --------------  -----  \n",
      " 0   Student_ID                  94 non-null     float64\n",
      " 1   Grades                      86 non-null     float64\n",
      " 2   Attendance                  94 non-null     float64\n",
      " 3   Participation               89 non-null     float64\n",
      " 4   Hours_Studied               91 non-null     float64\n",
      " 5   Extracurricular_Activities  88 non-null     float64\n",
      " 6   Midterm_Exam                87 non-null     float64\n",
      "dtypes: float64(7)\n",
      "memory usage: 5.6 KB\n"
     ]
    }
   ],
   "source": [
    "df.info()"
   ]
  },
  {
   "cell_type": "code",
   "execution_count": 13,
   "id": "60579513-3a62-4015-9874-8d3f40e32fb8",
   "metadata": {},
   "outputs": [
    {
     "data": {
      "text/html": [
       "<div>\n",
       "<style scoped>\n",
       "    .dataframe tbody tr th:only-of-type {\n",
       "        vertical-align: middle;\n",
       "    }\n",
       "\n",
       "    .dataframe tbody tr th {\n",
       "        vertical-align: top;\n",
       "    }\n",
       "\n",
       "    .dataframe thead th {\n",
       "        text-align: right;\n",
       "    }\n",
       "</style>\n",
       "<table border=\"1\" class=\"dataframe\">\n",
       "  <thead>\n",
       "    <tr style=\"text-align: right;\">\n",
       "      <th></th>\n",
       "      <th>Student_ID</th>\n",
       "      <th>Grades</th>\n",
       "      <th>Attendance</th>\n",
       "      <th>Participation</th>\n",
       "      <th>Hours_Studied</th>\n",
       "      <th>Extracurricular_Activities</th>\n",
       "      <th>Midterm_Exam</th>\n",
       "    </tr>\n",
       "  </thead>\n",
       "  <tbody>\n",
       "    <tr>\n",
       "      <th>count</th>\n",
       "      <td>94.000000</td>\n",
       "      <td>86.000000</td>\n",
       "      <td>94.000000</td>\n",
       "      <td>89.000000</td>\n",
       "      <td>91.000000</td>\n",
       "      <td>88.000000</td>\n",
       "      <td>87.000000</td>\n",
       "    </tr>\n",
       "    <tr>\n",
       "      <th>mean</th>\n",
       "      <td>49.776596</td>\n",
       "      <td>74.412809</td>\n",
       "      <td>1.129617</td>\n",
       "      <td>0.765191</td>\n",
       "      <td>13.074448</td>\n",
       "      <td>4.363636</td>\n",
       "      <td>70.773865</td>\n",
       "    </tr>\n",
       "    <tr>\n",
       "      <th>std</th>\n",
       "      <td>29.339010</td>\n",
       "      <td>9.048101</td>\n",
       "      <td>2.282554</td>\n",
       "      <td>2.318952</td>\n",
       "      <td>5.614556</td>\n",
       "      <td>2.796475</td>\n",
       "      <td>6.892740</td>\n",
       "    </tr>\n",
       "    <tr>\n",
       "      <th>min</th>\n",
       "      <td>1.000000</td>\n",
       "      <td>55.124311</td>\n",
       "      <td>0.602025</td>\n",
       "      <td>-5.547939</td>\n",
       "      <td>-3.838798</td>\n",
       "      <td>0.000000</td>\n",
       "      <td>52.609154</td>\n",
       "    </tr>\n",
       "    <tr>\n",
       "      <th>25%</th>\n",
       "      <td>24.250000</td>\n",
       "      <td>68.985604</td>\n",
       "      <td>0.697016</td>\n",
       "      <td>0.341496</td>\n",
       "      <td>9.229170</td>\n",
       "      <td>2.000000</td>\n",
       "      <td>66.826217</td>\n",
       "    </tr>\n",
       "    <tr>\n",
       "      <th>50%</th>\n",
       "      <td>48.500000</td>\n",
       "      <td>74.572463</td>\n",
       "      <td>0.806177</td>\n",
       "      <td>0.512856</td>\n",
       "      <td>13.601568</td>\n",
       "      <td>4.000000</td>\n",
       "      <td>71.138012</td>\n",
       "    </tr>\n",
       "    <tr>\n",
       "      <th>75%</th>\n",
       "      <td>74.750000</td>\n",
       "      <td>80.943972</td>\n",
       "      <td>0.883956</td>\n",
       "      <td>0.642800</td>\n",
       "      <td>17.077368</td>\n",
       "      <td>7.000000</td>\n",
       "      <td>74.065012</td>\n",
       "    </tr>\n",
       "    <tr>\n",
       "      <th>max</th>\n",
       "      <td>100.000000</td>\n",
       "      <td>93.522782</td>\n",
       "      <td>17.638398</td>\n",
       "      <td>20.102812</td>\n",
       "      <td>35.797094</td>\n",
       "      <td>9.000000</td>\n",
       "      <td>99.893618</td>\n",
       "    </tr>\n",
       "  </tbody>\n",
       "</table>\n",
       "</div>"
      ],
      "text/plain": [
       "       Student_ID     Grades  Attendance  Participation  Hours_Studied  \\\n",
       "count   94.000000  86.000000   94.000000      89.000000      91.000000   \n",
       "mean    49.776596  74.412809    1.129617       0.765191      13.074448   \n",
       "std     29.339010   9.048101    2.282554       2.318952       5.614556   \n",
       "min      1.000000  55.124311    0.602025      -5.547939      -3.838798   \n",
       "25%     24.250000  68.985604    0.697016       0.341496       9.229170   \n",
       "50%     48.500000  74.572463    0.806177       0.512856      13.601568   \n",
       "75%     74.750000  80.943972    0.883956       0.642800      17.077368   \n",
       "max    100.000000  93.522782   17.638398      20.102812      35.797094   \n",
       "\n",
       "       Extracurricular_Activities  Midterm_Exam  \n",
       "count                   88.000000     87.000000  \n",
       "mean                     4.363636     70.773865  \n",
       "std                      2.796475      6.892740  \n",
       "min                      0.000000     52.609154  \n",
       "25%                      2.000000     66.826217  \n",
       "50%                      4.000000     71.138012  \n",
       "75%                      7.000000     74.065012  \n",
       "max                      9.000000     99.893618  "
      ]
     },
     "execution_count": 13,
     "metadata": {},
     "output_type": "execute_result"
    }
   ],
   "source": [
    "df.describe()"
   ]
  },
  {
   "cell_type": "markdown",
   "id": "a4391186-4639-4c76-bcaa-763084fbb560",
   "metadata": {},
   "source": [
    "# Detecting outliers using Boxplot"
   ]
  },
  {
   "cell_type": "code",
   "execution_count": 14,
   "id": "5925a6e8-5741-40a9-a7ad-c1d54aaae118",
   "metadata": {},
   "outputs": [
    {
     "name": "stdout",
     "output_type": "stream",
     "text": [
      "Requirement already satisfied: seaborn in c:\\users\\aditya\\appdata\\local\\programs\\python\\python311\\lib\\site-packages (0.13.2)\n",
      "Requirement already satisfied: numpy!=1.24.0,>=1.20 in c:\\users\\aditya\\appdata\\local\\programs\\python\\python311\\lib\\site-packages (from seaborn) (1.26.4)\n",
      "Requirement already satisfied: pandas>=1.2 in c:\\users\\aditya\\appdata\\local\\programs\\python\\python311\\lib\\site-packages (from seaborn) (2.2.1)\n",
      "Requirement already satisfied: matplotlib!=3.6.1,>=3.4 in c:\\users\\aditya\\appdata\\local\\programs\\python\\python311\\lib\\site-packages (from seaborn) (3.8.3)\n",
      "Requirement already satisfied: contourpy>=1.0.1 in c:\\users\\aditya\\appdata\\local\\programs\\python\\python311\\lib\\site-packages (from matplotlib!=3.6.1,>=3.4->seaborn) (1.2.0)\n",
      "Requirement already satisfied: cycler>=0.10 in c:\\users\\aditya\\appdata\\local\\programs\\python\\python311\\lib\\site-packages (from matplotlib!=3.6.1,>=3.4->seaborn) (0.12.1)\n",
      "Requirement already satisfied: fonttools>=4.22.0 in c:\\users\\aditya\\appdata\\local\\programs\\python\\python311\\lib\\site-packages (from matplotlib!=3.6.1,>=3.4->seaborn) (4.50.0)\n",
      "Requirement already satisfied: kiwisolver>=1.3.1 in c:\\users\\aditya\\appdata\\local\\programs\\python\\python311\\lib\\site-packages (from matplotlib!=3.6.1,>=3.4->seaborn) (1.4.5)\n",
      "Requirement already satisfied: packaging>=20.0 in c:\\users\\aditya\\appdata\\local\\programs\\python\\python311\\lib\\site-packages (from matplotlib!=3.6.1,>=3.4->seaborn) (23.2)\n",
      "Requirement already satisfied: pillow>=8 in c:\\users\\aditya\\appdata\\local\\programs\\python\\python311\\lib\\site-packages (from matplotlib!=3.6.1,>=3.4->seaborn) (10.2.0)\n",
      "Requirement already satisfied: pyparsing>=2.3.1 in c:\\users\\aditya\\appdata\\local\\programs\\python\\python311\\lib\\site-packages (from matplotlib!=3.6.1,>=3.4->seaborn) (3.1.2)\n",
      "Requirement already satisfied: python-dateutil>=2.7 in c:\\users\\aditya\\appdata\\local\\programs\\python\\python311\\lib\\site-packages (from matplotlib!=3.6.1,>=3.4->seaborn) (2.9.0.post0)\n",
      "Requirement already satisfied: pytz>=2020.1 in c:\\users\\aditya\\appdata\\local\\programs\\python\\python311\\lib\\site-packages (from pandas>=1.2->seaborn) (2024.1)\n",
      "Requirement already satisfied: tzdata>=2022.7 in c:\\users\\aditya\\appdata\\local\\programs\\python\\python311\\lib\\site-packages (from pandas>=1.2->seaborn) (2024.1)\n",
      "Requirement already satisfied: six>=1.5 in c:\\users\\aditya\\appdata\\local\\programs\\python\\python311\\lib\\site-packages (from python-dateutil>=2.7->matplotlib!=3.6.1,>=3.4->seaborn) (1.16.0)\n"
     ]
    }
   ],
   "source": [
    "!pip install seaborn"
   ]
  },
  {
   "cell_type": "code",
   "execution_count": 15,
   "id": "c58bc80b-88dc-4086-aef5-8d3ecd87cb87",
   "metadata": {},
   "outputs": [
    {
     "data": {
      "text/plain": [
       "<Axes: >"
      ]
     },
     "execution_count": 15,
     "metadata": {},
     "output_type": "execute_result"
    },
    {
     "data": {
      "image/png": "[encoded data removed]",
      "text/plain": [
       "<Figure size 640x480 with 2 Axes>"
      ]
     },
     "metadata": {},
     "output_type": "display_data"
    }
   ],
   "source": [
    "import matplotlib.pyplot as plt\n",
    "import seaborn as sns\n",
    "import warnings\n",
    "warnings.filterwarnings(\"ignore\")\n",
    "fig, axes= plt.subplots(1,2)\n",
    "sns.boxplot(df1)"
   ]
  },
  {
   "cell_type": "code",
   "execution_count": 16,
   "id": "59af7255-3715-479e-a143-054057c66f0a",
   "metadata": {},
   "outputs": [
    {
     "data": {
      "text/plain": [
       "<Axes: ylabel='Hours_Studied'>"
      ]
     },
     "execution_count": 16,
     "metadata": {},
     "output_type": "execute_result"
    },
    {
     "data": {
      "image/png": "[encoded data removed]",
      "text/plain": [
       "<Figure size 640x480 with 1 Axes>"
      ]
     },
     "metadata": {},
     "output_type": "display_data"
    }
   ],
   "source": [
    "sns.boxplot(df1[\"Hours_Studied\"])"
   ]
  },
  {
   "cell_type": "markdown",
   "id": "d1b1d7c4-1856-47ae-889f-30242c64fc11",
   "metadata": {},
   "source": [
    "# Detecting outliers using IQR"
   ]
  },
  {
   "cell_type": "code",
   "execution_count": 17,
   "id": "8953202c-6fba-48e1-b48f-64e08261512e",
   "metadata": {},
   "outputs": [],
   "source": [
    "Q1 = df['Grades'].quantile(0.25)\n",
    "Q3 = df['Grades'].quantile(0.75)\n",
    "q1 = df['Attendance'].quantile(0.25)\n",
    "q3 = df['Attendance'].quantile(0.75)"
   ]
  },
  {
   "cell_type": "code",
   "execution_count": 18,
   "id": "d00cf9f6-cd4b-4682-be52-7388ac7bdb11",
   "metadata": {},
   "outputs": [
    {
     "data": {
      "text/plain": [
       "11.958368591788911"
      ]
     },
     "execution_count": 18,
     "metadata": {},
     "output_type": "execute_result"
    }
   ],
   "source": [
    "iqr = Q3 - Q1 #Interquartile range\n",
    "iqr2= q3 -q1\n",
    "minm= Q1 - (1.5*iqr)\n",
    "maxm = Q3 + (1.5*iqr)\n",
    "minm2 = q1 - (1.5*iqr2)\n",
    "maxm2 = q3 + (1.5*iqr2)\n",
    "iqr"
   ]
  },
  {
   "cell_type": "code",
   "execution_count": 19,
   "id": "101b94cf-19d0-404e-94c5-f4be0efd342d",
   "metadata": {},
   "outputs": [
    {
     "data": {
      "text/plain": [
       "0.18694011650242004"
      ]
     },
     "execution_count": 19,
     "metadata": {},
     "output_type": "execute_result"
    }
   ],
   "source": [
    "iqr2"
   ]
  },
  {
   "cell_type": "code",
   "execution_count": 20,
   "id": "220c8ba0-514a-47d6-97d3-630d72b60245",
   "metadata": {},
   "outputs": [
    {
     "data": {
      "text/plain": [
       "51.04805079579914"
      ]
     },
     "execution_count": 20,
     "metadata": {},
     "output_type": "execute_result"
    }
   ],
   "source": [
    "minm"
   ]
  },
  {
   "cell_type": "code",
   "execution_count": 21,
   "id": "0569ef07-7482-44f1-907d-0332b042f4fa",
   "metadata": {},
   "outputs": [
    {
     "data": {
      "text/plain": [
       "98.88152516295479"
      ]
     },
     "execution_count": 21,
     "metadata": {},
     "output_type": "execute_result"
    }
   ],
   "source": [
    "maxm"
   ]
  },
  {
   "cell_type": "code",
   "execution_count": 22,
   "id": "8998698e-5efd-42d6-ae66-7cb90c00104a",
   "metadata": {},
   "outputs": [
    {
     "data": {
      "text/plain": [
       "0.41660537103772843"
      ]
     },
     "execution_count": 22,
     "metadata": {},
     "output_type": "execute_result"
    }
   ],
   "source": [
    "minm2"
   ]
  },
  {
   "cell_type": "code",
   "execution_count": 23,
   "id": "5b353027-55aa-443a-b7d3-5f090529402c",
   "metadata": {},
   "outputs": [
    {
     "data": {
      "text/plain": [
       "1.1643658370474086"
      ]
     },
     "execution_count": 23,
     "metadata": {},
     "output_type": "execute_result"
    }
   ],
   "source": [
    "maxm2"
   ]
  },
  {
   "cell_type": "markdown",
   "id": "ef9f44e0-c252-47ce-8550-2afe9941fa4f",
   "metadata": {},
   "source": [
    "# Removing the outliers\n"
   ]
  },
  {
   "cell_type": "code",
   "execution_count": 24,
   "id": "d35c9cdd-1135-4fe4-9e7a-cdb8afd8bdc3",
   "metadata": {},
   "outputs": [
    {
     "data": {
      "text/html": [
       "<div>\n",
       "<style scoped>\n",
       "    .dataframe tbody tr th:only-of-type {\n",
       "        vertical-align: middle;\n",
       "    }\n",
       "\n",
       "    .dataframe tbody tr th {\n",
       "        vertical-align: top;\n",
       "    }\n",
       "\n",
       "    .dataframe thead th {\n",
       "        text-align: right;\n",
       "    }\n",
       "</style>\n",
       "<table border=\"1\" class=\"dataframe\">\n",
       "  <thead>\n",
       "    <tr style=\"text-align: right;\">\n",
       "      <th></th>\n",
       "      <th>Student_ID</th>\n",
       "      <th>Grades</th>\n",
       "      <th>Attendance</th>\n",
       "      <th>Participation</th>\n",
       "      <th>Hours_Studied</th>\n",
       "      <th>Extracurricular_Activities</th>\n",
       "      <th>Midterm_Exam</th>\n",
       "    </tr>\n",
       "  </thead>\n",
       "  <tbody>\n",
       "    <tr>\n",
       "      <th>0</th>\n",
       "      <td>1.0</td>\n",
       "      <td>79.967142</td>\n",
       "      <td>0.766964</td>\n",
       "      <td>0.502600</td>\n",
       "      <td>6.058531</td>\n",
       "      <td>6.0</td>\n",
       "      <td>66.778624</td>\n",
       "    </tr>\n",
       "    <tr>\n",
       "      <th>3</th>\n",
       "      <td>4.0</td>\n",
       "      <td>90.230299</td>\n",
       "      <td>0.735046</td>\n",
       "      <td>NaN</td>\n",
       "      <td>13.786634</td>\n",
       "      <td>9.0</td>\n",
       "      <td>66.753764</td>\n",
       "    </tr>\n",
       "    <tr>\n",
       "      <th>4</th>\n",
       "      <td>5.0</td>\n",
       "      <td>72.658466</td>\n",
       "      <td>0.977164</td>\n",
       "      <td>0.625133</td>\n",
       "      <td>19.103454</td>\n",
       "      <td>3.0</td>\n",
       "      <td>65.757397</td>\n",
       "    </tr>\n",
       "    <tr>\n",
       "      <th>5</th>\n",
       "      <td>6.0</td>\n",
       "      <td>72.658630</td>\n",
       "      <td>0.729281</td>\n",
       "      <td>0.328568</td>\n",
       "      <td>13.632113</td>\n",
       "      <td>7.0</td>\n",
       "      <td>NaN</td>\n",
       "    </tr>\n",
       "    <tr>\n",
       "      <th>6</th>\n",
       "      <td>7.0</td>\n",
       "      <td>90.792128</td>\n",
       "      <td>0.807516</td>\n",
       "      <td>0.285822</td>\n",
       "      <td>10.822549</td>\n",
       "      <td>8.0</td>\n",
       "      <td>71.665866</td>\n",
       "    </tr>\n",
       "    <tr>\n",
       "      <th>...</th>\n",
       "      <td>...</td>\n",
       "      <td>...</td>\n",
       "      <td>...</td>\n",
       "      <td>...</td>\n",
       "      <td>...</td>\n",
       "      <td>...</td>\n",
       "      <td>...</td>\n",
       "    </tr>\n",
       "    <tr>\n",
       "      <th>93</th>\n",
       "      <td>94.0</td>\n",
       "      <td>71.723379</td>\n",
       "      <td>0.747086</td>\n",
       "      <td>0.526148</td>\n",
       "      <td>16.300673</td>\n",
       "      <td>5.0</td>\n",
       "      <td>63.461715</td>\n",
       "    </tr>\n",
       "    <tr>\n",
       "      <th>94</th>\n",
       "      <td>95.0</td>\n",
       "      <td>62.626342</td>\n",
       "      <td>NaN</td>\n",
       "      <td>6.808721</td>\n",
       "      <td>21.251528</td>\n",
       "      <td>2.0</td>\n",
       "      <td>99.893618</td>\n",
       "    </tr>\n",
       "    <tr>\n",
       "      <th>95</th>\n",
       "      <td>96.0</td>\n",
       "      <td>60.364851</td>\n",
       "      <td>0.697596</td>\n",
       "      <td>0.212828</td>\n",
       "      <td>6.252511</td>\n",
       "      <td>4.0</td>\n",
       "      <td>66.879916</td>\n",
       "    </tr>\n",
       "    <tr>\n",
       "      <th>98</th>\n",
       "      <td>99.0</td>\n",
       "      <td>75.051135</td>\n",
       "      <td>0.956819</td>\n",
       "      <td>0.303698</td>\n",
       "      <td>11.363330</td>\n",
       "      <td>4.0</td>\n",
       "      <td>77.397170</td>\n",
       "    </tr>\n",
       "    <tr>\n",
       "      <th>99</th>\n",
       "      <td>100.0</td>\n",
       "      <td>72.654129</td>\n",
       "      <td>0.852455</td>\n",
       "      <td>0.592421</td>\n",
       "      <td>NaN</td>\n",
       "      <td>4.0</td>\n",
       "      <td>79.930682</td>\n",
       "    </tr>\n",
       "  </tbody>\n",
       "</table>\n",
       "<p>86 rows × 7 columns</p>\n",
       "</div>"
      ],
      "text/plain": [
       "    Student_ID     Grades  Attendance  Participation  Hours_Studied  \\\n",
       "0          1.0  79.967142    0.766964       0.502600       6.058531   \n",
       "3          4.0  90.230299    0.735046            NaN      13.786634   \n",
       "4          5.0  72.658466    0.977164       0.625133      19.103454   \n",
       "5          6.0  72.658630    0.729281       0.328568      13.632113   \n",
       "6          7.0  90.792128    0.807516       0.285822      10.822549   \n",
       "..         ...        ...         ...            ...            ...   \n",
       "93        94.0  71.723379    0.747086       0.526148      16.300673   \n",
       "94        95.0  62.626342         NaN       6.808721      21.251528   \n",
       "95        96.0  60.364851    0.697596       0.212828       6.252511   \n",
       "98        99.0  75.051135    0.956819       0.303698      11.363330   \n",
       "99       100.0  72.654129    0.852455       0.592421            NaN   \n",
       "\n",
       "    Extracurricular_Activities  Midterm_Exam  \n",
       "0                          6.0     66.778624  \n",
       "3                          9.0     66.753764  \n",
       "4                          3.0     65.757397  \n",
       "5                          7.0           NaN  \n",
       "6                          8.0     71.665866  \n",
       "..                         ...           ...  \n",
       "93                         5.0     63.461715  \n",
       "94                         2.0     99.893618  \n",
       "95                         4.0     66.879916  \n",
       "98                         4.0     77.397170  \n",
       "99                         4.0     79.930682  \n",
       "\n",
       "[86 rows x 7 columns]"
      ]
     },
     "execution_count": 24,
     "metadata": {},
     "output_type": "execute_result"
    }
   ],
   "source": [
    "df2=df[(df['Grades']>minm) & (df['Grades']<maxm)]\n",
    "df2"
   ]
  },
  {
   "cell_type": "code",
   "execution_count": 25,
   "id": "4a0a4ee4-95a7-4a79-8e59-c45afe68e004",
   "metadata": {},
   "outputs": [
    {
     "data": {
      "text/html": [
       "<div>\n",
       "<style scoped>\n",
       "    .dataframe tbody tr th:only-of-type {\n",
       "        vertical-align: middle;\n",
       "    }\n",
       "\n",
       "    .dataframe tbody tr th {\n",
       "        vertical-align: top;\n",
       "    }\n",
       "\n",
       "    .dataframe thead th {\n",
       "        text-align: right;\n",
       "    }\n",
       "</style>\n",
       "<table border=\"1\" class=\"dataframe\">\n",
       "  <thead>\n",
       "    <tr style=\"text-align: right;\">\n",
       "      <th></th>\n",
       "      <th>Student_ID</th>\n",
       "      <th>Grades</th>\n",
       "      <th>Attendance</th>\n",
       "      <th>Participation</th>\n",
       "      <th>Hours_Studied</th>\n",
       "      <th>Extracurricular_Activities</th>\n",
       "      <th>Midterm_Exam</th>\n",
       "    </tr>\n",
       "  </thead>\n",
       "  <tbody>\n",
       "    <tr>\n",
       "      <th>0</th>\n",
       "      <td>1.0</td>\n",
       "      <td>79.967142</td>\n",
       "      <td>0.766964</td>\n",
       "      <td>0.502600</td>\n",
       "      <td>6.058531</td>\n",
       "      <td>6.0</td>\n",
       "      <td>66.778624</td>\n",
       "    </tr>\n",
       "    <tr>\n",
       "      <th>3</th>\n",
       "      <td>4.0</td>\n",
       "      <td>90.230299</td>\n",
       "      <td>0.735046</td>\n",
       "      <td>NaN</td>\n",
       "      <td>13.786634</td>\n",
       "      <td>9.0</td>\n",
       "      <td>66.753764</td>\n",
       "    </tr>\n",
       "    <tr>\n",
       "      <th>4</th>\n",
       "      <td>5.0</td>\n",
       "      <td>72.658466</td>\n",
       "      <td>0.977164</td>\n",
       "      <td>0.625133</td>\n",
       "      <td>19.103454</td>\n",
       "      <td>3.0</td>\n",
       "      <td>65.757397</td>\n",
       "    </tr>\n",
       "    <tr>\n",
       "      <th>5</th>\n",
       "      <td>6.0</td>\n",
       "      <td>72.658630</td>\n",
       "      <td>0.729281</td>\n",
       "      <td>0.328568</td>\n",
       "      <td>13.632113</td>\n",
       "      <td>7.0</td>\n",
       "      <td>NaN</td>\n",
       "    </tr>\n",
       "    <tr>\n",
       "      <th>6</th>\n",
       "      <td>7.0</td>\n",
       "      <td>90.792128</td>\n",
       "      <td>0.807516</td>\n",
       "      <td>0.285822</td>\n",
       "      <td>10.822549</td>\n",
       "      <td>8.0</td>\n",
       "      <td>71.665866</td>\n",
       "    </tr>\n",
       "    <tr>\n",
       "      <th>...</th>\n",
       "      <td>...</td>\n",
       "      <td>...</td>\n",
       "      <td>...</td>\n",
       "      <td>...</td>\n",
       "      <td>...</td>\n",
       "      <td>...</td>\n",
       "      <td>...</td>\n",
       "    </tr>\n",
       "    <tr>\n",
       "      <th>92</th>\n",
       "      <td>93.0</td>\n",
       "      <td>67.979469</td>\n",
       "      <td>0.637470</td>\n",
       "      <td>0.411991</td>\n",
       "      <td>19.790016</td>\n",
       "      <td>4.0</td>\n",
       "      <td>76.715494</td>\n",
       "    </tr>\n",
       "    <tr>\n",
       "      <th>93</th>\n",
       "      <td>94.0</td>\n",
       "      <td>71.723379</td>\n",
       "      <td>0.747086</td>\n",
       "      <td>0.526148</td>\n",
       "      <td>16.300673</td>\n",
       "      <td>5.0</td>\n",
       "      <td>63.461715</td>\n",
       "    </tr>\n",
       "    <tr>\n",
       "      <th>95</th>\n",
       "      <td>96.0</td>\n",
       "      <td>60.364851</td>\n",
       "      <td>0.697596</td>\n",
       "      <td>0.212828</td>\n",
       "      <td>6.252511</td>\n",
       "      <td>4.0</td>\n",
       "      <td>66.879916</td>\n",
       "    </tr>\n",
       "    <tr>\n",
       "      <th>98</th>\n",
       "      <td>99.0</td>\n",
       "      <td>75.051135</td>\n",
       "      <td>0.956819</td>\n",
       "      <td>0.303698</td>\n",
       "      <td>11.363330</td>\n",
       "      <td>4.0</td>\n",
       "      <td>77.397170</td>\n",
       "    </tr>\n",
       "    <tr>\n",
       "      <th>99</th>\n",
       "      <td>100.0</td>\n",
       "      <td>72.654129</td>\n",
       "      <td>0.852455</td>\n",
       "      <td>0.592421</td>\n",
       "      <td>NaN</td>\n",
       "      <td>4.0</td>\n",
       "      <td>79.930682</td>\n",
       "    </tr>\n",
       "  </tbody>\n",
       "</table>\n",
       "<p>80 rows × 7 columns</p>\n",
       "</div>"
      ],
      "text/plain": [
       "    Student_ID     Grades  Attendance  Participation  Hours_Studied  \\\n",
       "0          1.0  79.967142    0.766964       0.502600       6.058531   \n",
       "3          4.0  90.230299    0.735046            NaN      13.786634   \n",
       "4          5.0  72.658466    0.977164       0.625133      19.103454   \n",
       "5          6.0  72.658630    0.729281       0.328568      13.632113   \n",
       "6          7.0  90.792128    0.807516       0.285822      10.822549   \n",
       "..         ...        ...         ...            ...            ...   \n",
       "92        93.0  67.979469    0.637470       0.411991      19.790016   \n",
       "93        94.0  71.723379    0.747086       0.526148      16.300673   \n",
       "95        96.0  60.364851    0.697596       0.212828       6.252511   \n",
       "98        99.0  75.051135    0.956819       0.303698      11.363330   \n",
       "99       100.0  72.654129    0.852455       0.592421            NaN   \n",
       "\n",
       "    Extracurricular_Activities  Midterm_Exam  \n",
       "0                          6.0     66.778624  \n",
       "3                          9.0     66.753764  \n",
       "4                          3.0     65.757397  \n",
       "5                          7.0           NaN  \n",
       "6                          8.0     71.665866  \n",
       "..                         ...           ...  \n",
       "92                         4.0     76.715494  \n",
       "93                         5.0     63.461715  \n",
       "95                         4.0     66.879916  \n",
       "98                         4.0     77.397170  \n",
       "99                         4.0     79.930682  \n",
       "\n",
       "[80 rows x 7 columns]"
      ]
     },
     "execution_count": 25,
     "metadata": {},
     "output_type": "execute_result"
    }
   ],
   "source": [
    "df3=df2[(df2['Attendance']>minm2) & (df2['Attendance']<maxm2)]\n",
    "df3"
   ]
  },
  {
   "cell_type": "code",
   "execution_count": 26,
   "id": "81164701-4072-4b38-9944-99a4e7516ea5",
   "metadata": {},
   "outputs": [
    {
     "data": {
      "image/png": "[encoded data removed]",
      "text/plain": [
       "<Figure size 640x480 with 2 Axes>"
      ]
     },
     "metadata": {},
     "output_type": "display_data"
    }
   ],
   "source": [
    "warnings.filterwarnings(\"ignore\")\n",
    "fig, axes= plt.subplots(1,2)\n",
    "\n",
    "sns.boxplot(df['Grades'],ax=axes[0])\n",
    "axes[0].title.set_text('Before')\n",
    "sns.boxplot(df2['Grades'],ax=axes[1])\n",
    "axes[1].title.set_text('After')\n",
    "plt.show()"
   ]
  },
  {
   "cell_type": "code",
   "execution_count": 27,
   "id": "463c2f25-88de-4769-ab12-316a7f3176fd",
   "metadata": {},
   "outputs": [
    {
     "data": {
      "image/png": "[encoded data removed]",
      "text/plain": [
       "<Figure size 640x480 with 2 Axes>"
      ]
     },
     "metadata": {},
     "output_type": "display_data"
    }
   ],
   "source": [
    "warnings.filterwarnings(\"ignore\")\n",
    "fig, axes= plt.subplots(1,2)\n",
    "\n",
    "sns.boxplot(df2['Attendance'],ax=axes[0])\n",
    "axes[0].title.set_text('Before')\n",
    "sns.boxplot(df3['Attendance'],ax=axes[1])\n",
    "axes[1].title.set_text('After')\n",
    "plt.show()"
   ]
  },
  {
   "cell_type": "markdown",
   "id": "398a077d-578c-4489-afe6-0c23578d88a3",
   "metadata": {},
   "source": [
    "# Replace Null values"
   ]
  },
  {
   "cell_type": "code",
   "execution_count": 28,
   "id": "42e25232-3853-41f6-913e-9a6f87567deb",
   "metadata": {},
   "outputs": [
    {
     "data": {
      "text/plain": [
       "Student_ID                    49.776596\n",
       "Grades                        74.412809\n",
       "Attendance                     1.129617\n",
       "Participation                  0.765191\n",
       "Hours_Studied                 13.074448\n",
       "Extracurricular_Activities     4.363636\n",
       "Midterm_Exam                  70.773865\n",
       "dtype: float64"
      ]
     },
     "execution_count": 28,
     "metadata": {},
     "output_type": "execute_result"
    }
   ],
   "source": [
    "df.mean(axis=0)"
   ]
  },
  {
   "cell_type": "code",
   "execution_count": 29,
   "id": "da93fa38-82ed-4590-88e7-f651b0cdcfa5",
   "metadata": {},
   "outputs": [],
   "source": [
    "df[\"Student_ID\"].fillna(\"00\", inplace = True)\n",
    "df[\"Grades\"].fillna(\"74.412809\", inplace = True)\n",
    "df[\"Attendance\"].fillna(\"1.129617\", inplace = True)\n",
    "df[\"Participation\"].fillna(\"0.765191\", inplace = True)\n",
    "df[\"Hours_Studied\"].fillna(\"13.074448\", inplace = True)\n",
    "df[\"Extracurricular_Activities\"].fillna(\"4.363636\", inplace = True)\n",
    "df[\"Midterm_Exam\"].fillna(\"70.773865\", inplace = True)"
   ]
  },
  {
   "cell_type": "code",
   "execution_count": 30,
   "id": "d2241a60-373c-45b6-aa87-93efe72b3a09",
   "metadata": {},
   "outputs": [
    {
     "data": {
      "text/html": [
       "<div>\n",
       "<style scoped>\n",
       "    .dataframe tbody tr th:only-of-type {\n",
       "        vertical-align: middle;\n",
       "    }\n",
       "\n",
       "    .dataframe tbody tr th {\n",
       "        vertical-align: top;\n",
       "    }\n",
       "\n",
       "    .dataframe thead th {\n",
       "        text-align: right;\n",
       "    }\n",
       "</style>\n",
       "<table border=\"1\" class=\"dataframe\">\n",
       "  <thead>\n",
       "    <tr style=\"text-align: right;\">\n",
       "      <th></th>\n",
       "      <th>Student_ID</th>\n",
       "      <th>Grades</th>\n",
       "      <th>Attendance</th>\n",
       "      <th>Participation</th>\n",
       "      <th>Hours_Studied</th>\n",
       "      <th>Extracurricular_Activities</th>\n",
       "      <th>Midterm_Exam</th>\n",
       "    </tr>\n",
       "  </thead>\n",
       "  <tbody>\n",
       "    <tr>\n",
       "      <th>0</th>\n",
       "      <td>1.0</td>\n",
       "      <td>79.967142</td>\n",
       "      <td>0.766964</td>\n",
       "      <td>0.5026</td>\n",
       "      <td>6.058531</td>\n",
       "      <td>6.0</td>\n",
       "      <td>66.778624</td>\n",
       "    </tr>\n",
       "    <tr>\n",
       "      <th>1</th>\n",
       "      <td>2.0</td>\n",
       "      <td>74.412809</td>\n",
       "      <td>0.688843</td>\n",
       "      <td>0.790707</td>\n",
       "      <td>14.636289</td>\n",
       "      <td>2.0</td>\n",
       "      <td>70.773865</td>\n",
       "    </tr>\n",
       "    <tr>\n",
       "      <th>2</th>\n",
       "      <td>3.0</td>\n",
       "      <td>74.412809</td>\n",
       "      <td>0.647946</td>\n",
       "      <td>0.765191</td>\n",
       "      <td>13.074448</td>\n",
       "      <td>1.0</td>\n",
       "      <td>66.301906</td>\n",
       "    </tr>\n",
       "    <tr>\n",
       "      <th>3</th>\n",
       "      <td>4.0</td>\n",
       "      <td>90.230299</td>\n",
       "      <td>0.735046</td>\n",
       "      <td>0.765191</td>\n",
       "      <td>13.786634</td>\n",
       "      <td>9.0</td>\n",
       "      <td>66.753764</td>\n",
       "    </tr>\n",
       "    <tr>\n",
       "      <th>4</th>\n",
       "      <td>5.0</td>\n",
       "      <td>72.658466</td>\n",
       "      <td>0.977164</td>\n",
       "      <td>0.625133</td>\n",
       "      <td>19.103454</td>\n",
       "      <td>3.0</td>\n",
       "      <td>65.757397</td>\n",
       "    </tr>\n",
       "    <tr>\n",
       "      <th>...</th>\n",
       "      <td>...</td>\n",
       "      <td>...</td>\n",
       "      <td>...</td>\n",
       "      <td>...</td>\n",
       "      <td>...</td>\n",
       "      <td>...</td>\n",
       "      <td>...</td>\n",
       "    </tr>\n",
       "    <tr>\n",
       "      <th>95</th>\n",
       "      <td>96.0</td>\n",
       "      <td>60.364851</td>\n",
       "      <td>0.697596</td>\n",
       "      <td>0.212828</td>\n",
       "      <td>6.252511</td>\n",
       "      <td>4.0</td>\n",
       "      <td>66.879916</td>\n",
       "    </tr>\n",
       "    <tr>\n",
       "      <th>96</th>\n",
       "      <td>97.0</td>\n",
       "      <td>74.412809</td>\n",
       "      <td>0.989204</td>\n",
       "      <td>0.765191</td>\n",
       "      <td>16.657204</td>\n",
       "      <td>6.0</td>\n",
       "      <td>72.007803</td>\n",
       "    </tr>\n",
       "    <tr>\n",
       "      <th>97</th>\n",
       "      <td>98.0</td>\n",
       "      <td>74.412809</td>\n",
       "      <td>0.757239</td>\n",
       "      <td>0.502047</td>\n",
       "      <td>13.376064</td>\n",
       "      <td>4.0</td>\n",
       "      <td>78.234745</td>\n",
       "    </tr>\n",
       "    <tr>\n",
       "      <th>98</th>\n",
       "      <td>99.0</td>\n",
       "      <td>75.051135</td>\n",
       "      <td>0.956819</td>\n",
       "      <td>0.303698</td>\n",
       "      <td>11.36333</td>\n",
       "      <td>4.0</td>\n",
       "      <td>77.39717</td>\n",
       "    </tr>\n",
       "    <tr>\n",
       "      <th>99</th>\n",
       "      <td>100.0</td>\n",
       "      <td>72.654129</td>\n",
       "      <td>0.852455</td>\n",
       "      <td>0.592421</td>\n",
       "      <td>13.074448</td>\n",
       "      <td>4.0</td>\n",
       "      <td>79.930682</td>\n",
       "    </tr>\n",
       "  </tbody>\n",
       "</table>\n",
       "<p>100 rows × 7 columns</p>\n",
       "</div>"
      ],
      "text/plain": [
       "   Student_ID     Grades Attendance Participation Hours_Studied  \\\n",
       "0         1.0  79.967142   0.766964        0.5026      6.058531   \n",
       "1         2.0  74.412809   0.688843      0.790707     14.636289   \n",
       "2         3.0  74.412809   0.647946      0.765191     13.074448   \n",
       "3         4.0  90.230299   0.735046      0.765191     13.786634   \n",
       "4         5.0  72.658466   0.977164      0.625133     19.103454   \n",
       "..        ...        ...        ...           ...           ...   \n",
       "95       96.0  60.364851   0.697596      0.212828      6.252511   \n",
       "96       97.0  74.412809   0.989204      0.765191     16.657204   \n",
       "97       98.0  74.412809   0.757239      0.502047     13.376064   \n",
       "98       99.0  75.051135   0.956819      0.303698      11.36333   \n",
       "99      100.0  72.654129   0.852455      0.592421     13.074448   \n",
       "\n",
       "   Extracurricular_Activities Midterm_Exam  \n",
       "0                         6.0    66.778624  \n",
       "1                         2.0    70.773865  \n",
       "2                         1.0    66.301906  \n",
       "3                         9.0    66.753764  \n",
       "4                         3.0    65.757397  \n",
       "..                        ...          ...  \n",
       "95                        4.0    66.879916  \n",
       "96                        6.0    72.007803  \n",
       "97                        4.0    78.234745  \n",
       "98                        4.0     77.39717  \n",
       "99                        4.0    79.930682  \n",
       "\n",
       "[100 rows x 7 columns]"
      ]
     },
     "execution_count": 30,
     "metadata": {},
     "output_type": "execute_result"
    }
   ],
   "source": [
    "df"
   ]
  },
  {
   "cell_type": "code",
   "execution_count": 31,
   "id": "fd241b9b-9785-46a1-8a7a-dd16dafa31f2",
   "metadata": {},
   "outputs": [],
   "source": [
    "from scipy.stats import norm\n",
    "import statistics\n",
    "import scipy.stats as stats"
   ]
  },
  {
   "cell_type": "code",
   "execution_count": 32,
   "id": "1e333bdd-9a62-4364-ae09-1e067ca7adb5",
   "metadata": {},
   "outputs": [],
   "source": [
    "# Calculating mean and Stdev\n",
    "df_mean = np.mean(df2[\"Grades\"])\n",
    "df_std = np.std(df2[\"Grades\"])"
   ]
  },
  {
   "cell_type": "code",
   "execution_count": 33,
   "id": "8c76d056-f36b-457e-860c-97b667613097",
   "metadata": {},
   "outputs": [],
   "source": [
    "# Calculating probability density function (PDF)\n",
    "pdf = stats.norm.pdf(df2[\"Grades\"].sort_values(), df_mean, df_std)"
   ]
  },
  {
   "cell_type": "code",
   "execution_count": 34,
   "id": "62d13da1-e1e4-421f-ab36-62ca62b08b4d",
   "metadata": {},
   "outputs": [
    {
     "data": {
      "image/png": "[encoded data removed]",
      "text/plain": [
       "<Figure size 640x480 with 1 Axes>"
      ]
     },
     "metadata": {},
     "output_type": "display_data"
    }
   ],
   "source": [
    "# Drawing a graph\n",
    "plt.plot(df2[\"Grades\"].sort_values(), pdf)\n",
    "plt.xlim([-52.0,124.0]) \n",
    "plt.xlabel(\"Grades\", size=12) \n",
    "plt.ylabel(\"Frequency\", size=12) \n",
    "plt.grid(True, alpha=0.3, linestyle=\"--\")\n",
    "plt.show()"
   ]
  },
  {
   "cell_type": "code",
   "execution_count": null,
   "id": "2f94e173-9b1f-401e-98e2-ec2c85165f2a",
   "metadata": {},
   "outputs": [],
   "source": []
  }
 ],
 "metadata": {
  "kernelspec": {
   "display_name": "Python 3 (ipykernel)",
   "language": "python",
   "name": "python3"
  },
  "language_info": {
   "codemirror_mode": {
    "name": "ipython",
    "version": 3
   },
   "file_extension": ".py",
   "mimetype": "text/x-python",
   "name": "python",
   "nbconvert_exporter": "python",
   "pygments_lexer": "ipython3",
   "version": "3.11.5"
  }
 },
 "nbformat": 4,
 "nbformat_minor": 5
}
